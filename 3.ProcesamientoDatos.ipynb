{
 "cells": [
  {
   "cell_type": "markdown",
   "id": "9a004934-be26-482d-b9c4-d4cfac05ce29",
   "metadata": {
    "id": "9a004934-be26-482d-b9c4-d4cfac05ce29"
   },
   "source": [
    "## Procesamiento Datos Pandas\n",
    "\n",
    "Para esta prueba deberá emplear los datos del archivo candidates.csv para lo cual deberá:\n",
    "\n",
    "1. Almanecar los datos en una base de datos. (Asegurar el almacenamiento con el tipo de dato apropiado)\n",
    "2. A partir de la lectura de los datos deberá generar un procesamiento reporte.\n",
    "    \n",
    "    (Cree el proceso que consideré más conveniente, realizarlo lo más complejo que le sea posible)\n",
    "    \n",
    "3. Realizar un código de envio de correos integrado en su solución.\n",
    "\n",
    "\n",
    "El archivo candidates.csv contiene 50k filas de datos sobre candidatos. Los campos que estamos usando son:\n",
    "- First Name\n",
    "- Last Name\n",
    "- Email\n",
    "- Country\n",
    "- Application Date\n",
    "- YOE\n",
    "- Seniority\n",
    "- Technology\n",
    "- Code Challenge Score\n",
    "- Technical Interview\n"
   ]
  },
  {
   "cell_type": "code",
   "execution_count": 9,
   "id": "6046b2bc",
   "metadata": {
    "scrolled": true
   },
   "outputs": [
    {
     "name": "stdout",
     "output_type": "stream",
     "text": [
      "           Country  Average_YOE  Average_Score\n",
      "0            Sudan    16.050000       5.633333\n",
      "1           Tuvalu    15.015544       5.549223\n",
      "2       Madagascar    15.296482       5.547739\n",
      "3            Japan    15.511737       5.516432\n",
      "4    Guinea-Bissau    15.404040       5.515152\n",
      "..             ...          ...            ...\n",
      "239       Colombia    15.389381       4.561947\n",
      "240        Denmark    15.320755       4.547170\n",
      "241     Guadeloupe    14.456221       4.520737\n",
      "242      Hong Kong    14.797030       4.465347\n",
      "243           Guam    15.630769       4.410256\n",
      "\n",
      "[244 rows x 3 columns]\n"
     ]
    }
   ],
   "source": [
    "import sqlite3\n",
    "import pandas as pd\n",
    "\n",
    "df_candidates = pd.read_csv('./src/candidates.csv', sep=';')\n",
    "\n",
    "conn = sqlite3.connect('candidates.db')\n",
    "\n",
    "df_candidates.to_sql('candidates', conn, if_exists='replace', index=False)\n",
    "\n",
    "\n",
    "report = pd.read_sql_query('''\n",
    "    SELECT Country, AVG(YOE) AS Average_YOE, AVG([Code Challenge Score]) AS Average_Score\n",
    "    FROM candidates\n",
    "    GROUP BY Country\n",
    "    ORDER BY Average_Score DESC\n",
    "''', conn)\n",
    "\n",
    "conn.close()\n",
    "print(report)"
   ]
  },
  {
   "cell_type": "code",
   "execution_count": 11,
   "id": "59cd2be4-533a-46cd-a117-0903c90a97e9",
   "metadata": {
    "id": "59cd2be4-533a-46cd-a117-0903c90a97e9",
    "outputId": "94e20d73-fa0f-4d47-d630-8110ef980fdb"
   },
   "outputs": [
    {
     "name": "stdout",
     "output_type": "stream",
     "text": [
      "Correo electrónico enviado con éxito.\n"
     ]
    }
   ],
   "source": [
    "import smtplib\n",
    "from email.mime.multipart import MIMEMultipart\n",
    "from email.mime.base import MIMEBase\n",
    "from email import encoders\n",
    "\n",
    "\n",
    "de = \"kelly.humpire21@gmail.com\"\n",
    "clave = open('clave.txt').read().strip()\n",
    "para = \"destinatario@gmail.com\"\n",
    "\n",
    "\n",
    "mensaje = MIMEMultipart()\n",
    "mensaje[\"From\"] = de\n",
    "mensaje[\"To\"] = para\n",
    "mensaje[\"Subject\"] = \"Base de candidatos\"\n",
    "\n",
    "archivo_adjunto = \"candidates.db\" \n",
    "with open(archivo_adjunto, \"rb\") as archivo:\n",
    "    adjunto = MIMEBase(\"application\", \"octet-stream\")\n",
    "    adjunto.set_payload(archivo.read())\n",
    "encoders.encode_base64(adjunto)\n",
    "\n",
    "adjunto.add_header(\"Content-Disposition\", f\"attachment; filename= {archivo_adjunto}\")\n",
    "mensaje.attach(adjunto)\n",
    "\n",
    "smtp_server = 'smtp.gmail.com'\n",
    "smtp_port = 587\n",
    "with smtplib.SMTP(smtp_server, smtp_port) as server:\n",
    "    server.starttls()\n",
    "    server.login(de, clave)\n",
    "    server.send_message(mensaje)\n",
    "\n",
    "print('Correo electrónico enviado con éxito.')"
   ]
  },
  {
   "cell_type": "code",
   "execution_count": null,
   "id": "6ece1455",
   "metadata": {},
   "outputs": [],
   "source": []
  }
 ],
 "metadata": {
  "colab": {
   "provenance": []
  },
  "kernelspec": {
   "display_name": "Python 3 (ipykernel)",
   "language": "python",
   "name": "python3"
  },
  "language_info": {
   "codemirror_mode": {
    "name": "ipython",
    "version": 3
   },
   "file_extension": ".py",
   "mimetype": "text/x-python",
   "name": "python",
   "nbconvert_exporter": "python",
   "pygments_lexer": "ipython3",
   "version": "3.10.9"
  }
 },
 "nbformat": 4,
 "nbformat_minor": 5
}

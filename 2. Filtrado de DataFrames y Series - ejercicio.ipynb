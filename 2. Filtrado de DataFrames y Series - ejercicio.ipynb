{
 "cells": [
  {
   "cell_type": "markdown",
   "metadata": {
    "id": "QFRdsO7aJRhd"
   },
   "source": [
    "# Ejercicio - Busqueda de Alojamiento en Airbnb.\n",
    "\n",
    "Supongamos que somos un agente de [Airbnb](http://www.airbnb.com) localizado en Lisboa, y tenemos que atender peticiones de varios clientes. Tenemos un archivo llamado `airbnb.csv` (en la carpeta data) donde tenemos información de todos los alojamientos de Airbnb en Lisboa."
   ]
  },
  {
   "cell_type": "code",
   "execution_count": 2,
   "metadata": {
    "id": "DjibxhdiJRhj"
   },
   "outputs": [],
   "source": [
    "import pandas as pd\n",
    "df_airbnb = pd.read_csv(\"./src/airbnb.csv\")"
   ]
  },
  {
   "cell_type": "code",
   "execution_count": 3,
   "metadata": {
    "id": "fpwgf0b6JRhl",
    "outputId": "aa85991b-0216-4cf2-839f-7aa61c31df32"
   },
   "outputs": [
    {
     "data": {
      "text/html": [
       "<div>\n",
       "<style scoped>\n",
       "    .dataframe tbody tr th:only-of-type {\n",
       "        vertical-align: middle;\n",
       "    }\n",
       "\n",
       "    .dataframe tbody tr th {\n",
       "        vertical-align: top;\n",
       "    }\n",
       "\n",
       "    .dataframe thead th {\n",
       "        text-align: right;\n",
       "    }\n",
       "</style>\n",
       "<table border=\"1\" class=\"dataframe\">\n",
       "  <thead>\n",
       "    <tr style=\"text-align: right;\">\n",
       "      <th></th>\n",
       "      <th>room_id</th>\n",
       "      <th>host_id</th>\n",
       "      <th>room_type</th>\n",
       "      <th>neighborhood</th>\n",
       "      <th>reviews</th>\n",
       "      <th>overall_satisfaction</th>\n",
       "      <th>accommodates</th>\n",
       "      <th>bedrooms</th>\n",
       "      <th>price</th>\n",
       "    </tr>\n",
       "  </thead>\n",
       "  <tbody>\n",
       "    <tr>\n",
       "      <th>0</th>\n",
       "      <td>6499</td>\n",
       "      <td>14455</td>\n",
       "      <td>Entire home/apt</td>\n",
       "      <td>Belém</td>\n",
       "      <td>8</td>\n",
       "      <td>5.0</td>\n",
       "      <td>2</td>\n",
       "      <td>1.0</td>\n",
       "      <td>57.0</td>\n",
       "    </tr>\n",
       "    <tr>\n",
       "      <th>1</th>\n",
       "      <td>17031</td>\n",
       "      <td>66015</td>\n",
       "      <td>Entire home/apt</td>\n",
       "      <td>Alvalade</td>\n",
       "      <td>0</td>\n",
       "      <td>0.0</td>\n",
       "      <td>2</td>\n",
       "      <td>1.0</td>\n",
       "      <td>46.0</td>\n",
       "    </tr>\n",
       "    <tr>\n",
       "      <th>2</th>\n",
       "      <td>25659</td>\n",
       "      <td>107347</td>\n",
       "      <td>Entire home/apt</td>\n",
       "      <td>Santa Maria Maior</td>\n",
       "      <td>63</td>\n",
       "      <td>5.0</td>\n",
       "      <td>3</td>\n",
       "      <td>1.0</td>\n",
       "      <td>69.0</td>\n",
       "    </tr>\n",
       "    <tr>\n",
       "      <th>3</th>\n",
       "      <td>29248</td>\n",
       "      <td>125768</td>\n",
       "      <td>Entire home/apt</td>\n",
       "      <td>Santa Maria Maior</td>\n",
       "      <td>225</td>\n",
       "      <td>4.5</td>\n",
       "      <td>4</td>\n",
       "      <td>1.0</td>\n",
       "      <td>58.0</td>\n",
       "    </tr>\n",
       "    <tr>\n",
       "      <th>4</th>\n",
       "      <td>29396</td>\n",
       "      <td>126415</td>\n",
       "      <td>Entire home/apt</td>\n",
       "      <td>Santa Maria Maior</td>\n",
       "      <td>132</td>\n",
       "      <td>5.0</td>\n",
       "      <td>4</td>\n",
       "      <td>1.0</td>\n",
       "      <td>67.0</td>\n",
       "    </tr>\n",
       "  </tbody>\n",
       "</table>\n",
       "</div>"
      ],
      "text/plain": [
       "   room_id  host_id        room_type       neighborhood  reviews  \\\n",
       "0     6499    14455  Entire home/apt              Belém        8   \n",
       "1    17031    66015  Entire home/apt           Alvalade        0   \n",
       "2    25659   107347  Entire home/apt  Santa Maria Maior       63   \n",
       "3    29248   125768  Entire home/apt  Santa Maria Maior      225   \n",
       "4    29396   126415  Entire home/apt  Santa Maria Maior      132   \n",
       "\n",
       "   overall_satisfaction  accommodates  bedrooms  price  \n",
       "0                   5.0             2       1.0   57.0  \n",
       "1                   0.0             2       1.0   46.0  \n",
       "2                   5.0             3       1.0   69.0  \n",
       "3                   4.5             4       1.0   58.0  \n",
       "4                   5.0             4       1.0   67.0  "
      ]
     },
     "execution_count": 3,
     "metadata": {},
     "output_type": "execute_result"
    }
   ],
   "source": [
    "df_airbnb.head()"
   ]
  },
  {
   "cell_type": "code",
   "execution_count": 5,
   "metadata": {
    "id": "f4ThNafjJRhm",
    "outputId": "11807043-94f1-44bb-d619-676b069ea776"
   },
   "outputs": [
    {
     "name": "stdout",
     "output_type": "stream",
     "text": [
      "<class 'pandas.core.frame.DataFrame'>\n",
      "RangeIndex: 13232 entries, 0 to 13231\n",
      "Data columns (total 9 columns):\n",
      " #   Column                Non-Null Count  Dtype  \n",
      "---  ------                --------------  -----  \n",
      " 0   room_id               13232 non-null  int64  \n",
      " 1   host_id               13232 non-null  int64  \n",
      " 2   room_type             13232 non-null  object \n",
      " 3   neighborhood          13232 non-null  object \n",
      " 4   reviews               13232 non-null  int64  \n",
      " 5   overall_satisfaction  13222 non-null  float64\n",
      " 6   accommodates          13232 non-null  int64  \n",
      " 7   bedrooms              13232 non-null  float64\n",
      " 8   price                 13232 non-null  float64\n",
      "dtypes: float64(3), int64(4), object(2)\n",
      "memory usage: 930.5+ KB\n"
     ]
    }
   ],
   "source": [
    "df_airbnb.info()"
   ]
  },
  {
   "cell_type": "markdown",
   "metadata": {
    "id": "qHp3aDXZJRhn"
   },
   "source": [
    "En concreto el dataset tiene las siguientes variables:\n",
    "- room_id: el identificador de la propiedad\n",
    "- host_id: el identificador del dueño de la propiedad\n",
    "- room_type: tipo de propiedad (vivienda completa/(habitacion para compartir/habitación privada)\n",
    "- neighborhood: el barrio de Lisboa\n",
    "- reviews: El numero de opiniones\n",
    "- overall_satisfaction: Puntuacion media del apartamento\n",
    "- accommodates: El numero de personas que se pueden alojar en la propiedad\n",
    "- bedrooms: El número de habitaciones\n",
    "- price: El precio (en euros) por noche"
   ]
  },
  {
   "cell_type": "markdown",
   "metadata": {
    "id": "FytFtWUsJRho"
   },
   "source": [
    "## Usando Pandas"
   ]
  },
  {
   "cell_type": "markdown",
   "metadata": {
    "id": "ugPnas8EJRhp"
   },
   "source": [
    "### Caso 1.\n",
    "\n",
    "Alicia va a ir a Lisboa durante una semana con su marido y sus 2 hijos. Están buscando un apartamento con habitaciones separadas para los padres y los hijos. No les importa donde alojarse o el precio, simplemente quieren tener una experiencia agradable. Esto significa que solo aceptan lugares con más de 10 críticas con una puntuación mayor de 4. Cuando seleccionemos habitaciones para Alicia, tenemos que asegurarnos de ordenar las habitaciones de mejor a peor puntuación. Para aquellas habitaciones que tienen la misma puntuación, debemos mostrar antes aquellas con más críticas. Debemos darle 3 alternativas."
   ]
  },
  {
   "cell_type": "code",
   "execution_count": 34,
   "metadata": {
    "id": "2Bb-BJ5_JRhq"
   },
   "outputs": [
    {
     "name": "stdout",
     "output_type": "stream",
     "text": [
      "        room_id    host_id        room_type       neighborhood  reviews  \\\n",
      "2         25659     107347  Entire home/apt  Santa Maria Maior       63   \n",
      "3         29248     125768  Entire home/apt  Santa Maria Maior      225   \n",
      "4         29396     126415  Entire home/apt  Santa Maria Maior      132   \n",
      "5         29720     128075  Entire home/apt            Estrela       14   \n",
      "6         29872     128698  Entire home/apt          Alcântara       25   \n",
      "...         ...        ...              ...                ...      ...   \n",
      "11986  18306197  126608804  Entire home/apt            Estrela       11   \n",
      "11992  18309403   15826725  Entire home/apt  Santa Maria Maior       11   \n",
      "11994  18311057  126613630     Private room  Santa Maria Maior       11   \n",
      "12012  18322425  106306229     Private room    Penha de França       14   \n",
      "12051  18355475   74171605  Entire home/apt       Misericórdia       14   \n",
      "\n",
      "       overall_satisfaction  accommodates  bedrooms   price  \n",
      "2                       5.0             3       1.0    69.0  \n",
      "3                       4.5             4       1.0    58.0  \n",
      "4                       5.0             4       1.0    67.0  \n",
      "5                       5.0            16       9.0  1154.0  \n",
      "6                       5.0             2       1.0    75.0  \n",
      "...                     ...           ...       ...     ...  \n",
      "11986                   4.5             4       1.0    58.0  \n",
      "11992                   5.0             7       3.0   113.0  \n",
      "11994                   5.0             1       1.0    23.0  \n",
      "12012                   4.5             2       2.0    31.0  \n",
      "12051                   5.0             6       2.0    79.0  \n",
      "\n",
      "[6121 rows x 9 columns]\n"
     ]
    }
   ],
   "source": [
    "# Consejo: para mostrar 3 alternativas emplee head(3)\n",
    "filtro=df_airbnb.loc[(df_airbnb['reviews']>10) & (df_airbnb['overall_satisfaction']>4)]\n",
    "print(filtro)"
   ]
  },
  {
   "cell_type": "code",
   "execution_count": 46,
   "metadata": {},
   "outputs": [
    {
     "name": "stdout",
     "output_type": "stream",
     "text": [
      "        room_id    host_id        room_type       neighborhood  reviews  \\\n",
      "120      176153     842219  Entire home/apt       Misericórdia      438   \n",
      "1369    1745355    9186518  Entire home/apt            Olivais      419   \n",
      "931     1085634    5968047  Entire home/apt       Misericórdia      379   \n",
      "446      555172    2727077  Entire home/apt       Misericórdia      360   \n",
      "233      317916    1631771     Private room            Estrela      344   \n",
      "...         ...        ...              ...                ...      ...   \n",
      "11586  17974974  123450353  Entire home/apt       Misericórdia       11   \n",
      "11757  18127740   69562114  Entire home/apt              Ajuda       11   \n",
      "11773  18138730  125042217  Entire home/apt  Santa Maria Maior       11   \n",
      "11910  18260651   37385021  Entire home/apt              Belém       11   \n",
      "11986  18306197  126608804  Entire home/apt            Estrela       11   \n",
      "\n",
      "       overall_satisfaction  accommodates  bedrooms  price  \n",
      "120                     5.0             4       2.0  102.0  \n",
      "1369                    4.5             5       2.0   50.0  \n",
      "931                     5.0             2       1.0   52.0  \n",
      "446                     4.5             2       1.0   46.0  \n",
      "233                     4.5             2       1.0   27.0  \n",
      "...                     ...           ...       ...    ...  \n",
      "11586                   4.5             6       2.0   75.0  \n",
      "11757                   4.5             4       1.0   57.0  \n",
      "11773                   4.5             3       1.0   68.0  \n",
      "11910                   4.5             4       1.0   29.0  \n",
      "11986                   4.5             4       1.0   58.0  \n",
      "\n",
      "[6121 rows x 9 columns]\n"
     ]
    }
   ],
   "source": [
    "df_ordenado=filtro.sort_values(['reviews','overall_satisfaction'],ascending=False)\n",
    "print(df_ordenado)"
   ]
  },
  {
   "cell_type": "code",
   "execution_count": 48,
   "metadata": {
    "scrolled": true
   },
   "outputs": [
    {
     "data": {
      "text/html": [
       "<div>\n",
       "<style scoped>\n",
       "    .dataframe tbody tr th:only-of-type {\n",
       "        vertical-align: middle;\n",
       "    }\n",
       "\n",
       "    .dataframe tbody tr th {\n",
       "        vertical-align: top;\n",
       "    }\n",
       "\n",
       "    .dataframe thead th {\n",
       "        text-align: right;\n",
       "    }\n",
       "</style>\n",
       "<table border=\"1\" class=\"dataframe\">\n",
       "  <thead>\n",
       "    <tr style=\"text-align: right;\">\n",
       "      <th></th>\n",
       "      <th>room_id</th>\n",
       "      <th>host_id</th>\n",
       "      <th>room_type</th>\n",
       "      <th>neighborhood</th>\n",
       "      <th>reviews</th>\n",
       "      <th>overall_satisfaction</th>\n",
       "      <th>accommodates</th>\n",
       "      <th>bedrooms</th>\n",
       "      <th>price</th>\n",
       "    </tr>\n",
       "  </thead>\n",
       "  <tbody>\n",
       "    <tr>\n",
       "      <th>120</th>\n",
       "      <td>176153</td>\n",
       "      <td>842219</td>\n",
       "      <td>Entire home/apt</td>\n",
       "      <td>Misericórdia</td>\n",
       "      <td>438</td>\n",
       "      <td>5.0</td>\n",
       "      <td>4</td>\n",
       "      <td>2.0</td>\n",
       "      <td>102.0</td>\n",
       "    </tr>\n",
       "    <tr>\n",
       "      <th>1369</th>\n",
       "      <td>1745355</td>\n",
       "      <td>9186518</td>\n",
       "      <td>Entire home/apt</td>\n",
       "      <td>Olivais</td>\n",
       "      <td>419</td>\n",
       "      <td>4.5</td>\n",
       "      <td>5</td>\n",
       "      <td>2.0</td>\n",
       "      <td>50.0</td>\n",
       "    </tr>\n",
       "    <tr>\n",
       "      <th>931</th>\n",
       "      <td>1085634</td>\n",
       "      <td>5968047</td>\n",
       "      <td>Entire home/apt</td>\n",
       "      <td>Misericórdia</td>\n",
       "      <td>379</td>\n",
       "      <td>5.0</td>\n",
       "      <td>2</td>\n",
       "      <td>1.0</td>\n",
       "      <td>52.0</td>\n",
       "    </tr>\n",
       "  </tbody>\n",
       "</table>\n",
       "</div>"
      ],
      "text/plain": [
       "      room_id  host_id        room_type  neighborhood  reviews  \\\n",
       "120    176153   842219  Entire home/apt  Misericórdia      438   \n",
       "1369  1745355  9186518  Entire home/apt       Olivais      419   \n",
       "931   1085634  5968047  Entire home/apt  Misericórdia      379   \n",
       "\n",
       "      overall_satisfaction  accommodates  bedrooms  price  \n",
       "120                    5.0             4       2.0  102.0  \n",
       "1369                   4.5             5       2.0   50.0  \n",
       "931                    5.0             2       1.0   52.0  "
      ]
     },
     "execution_count": 48,
     "metadata": {},
     "output_type": "execute_result"
    }
   ],
   "source": [
    "#RESULTADO FINAL\n",
    "df_ordenado.head(3)"
   ]
  },
  {
   "cell_type": "markdown",
   "metadata": {
    "id": "sEtivcU_JRhq"
   },
   "source": [
    "### Caso 2\n",
    "\n",
    "Roberto es un casero que tiene una casa en Airbnb. De vez en cuando nos llama preguntando sobre cuales son las críticas de su alojamiento. Hoy está particularmente enfadado, ya que su hermana Clara ha puesto una casa en Airbnb y Roberto quiere asegurarse de que su casa tiene más críticas que las de Clara. Tenemos que crear un dataframe con las propiedades de ambos. Las id de las casas de Roberto y Clara son 97503 y 90387  respectivamente. Finalmente guardamos este dataframe como excel llamado \"roberto.xls"
   ]
  },
  {
   "cell_type": "code",
   "execution_count": 109,
   "metadata": {},
   "outputs": [],
   "source": [
    "propietarios=[97503,90387]\n",
    "df_propietarios = df_airbnb[df_airbnb['room_id'].isin(propietarios)]"
   ]
  },
  {
   "cell_type": "code",
   "execution_count": 110,
   "metadata": {},
   "outputs": [
    {
     "data": {
      "text/html": [
       "<div>\n",
       "<style scoped>\n",
       "    .dataframe tbody tr th:only-of-type {\n",
       "        vertical-align: middle;\n",
       "    }\n",
       "\n",
       "    .dataframe tbody tr th {\n",
       "        vertical-align: top;\n",
       "    }\n",
       "\n",
       "    .dataframe thead th {\n",
       "        text-align: right;\n",
       "    }\n",
       "</style>\n",
       "<table border=\"1\" class=\"dataframe\">\n",
       "  <thead>\n",
       "    <tr style=\"text-align: right;\">\n",
       "      <th></th>\n",
       "      <th>room_id</th>\n",
       "      <th>host_id</th>\n",
       "      <th>room_type</th>\n",
       "      <th>neighborhood</th>\n",
       "      <th>reviews</th>\n",
       "      <th>overall_satisfaction</th>\n",
       "      <th>accommodates</th>\n",
       "      <th>bedrooms</th>\n",
       "      <th>price</th>\n",
       "    </tr>\n",
       "  </thead>\n",
       "  <tbody>\n",
       "    <tr>\n",
       "      <th>41</th>\n",
       "      <td>90387</td>\n",
       "      <td>490050</td>\n",
       "      <td>Private room</td>\n",
       "      <td>Santo António</td>\n",
       "      <td>204</td>\n",
       "      <td>5.0</td>\n",
       "      <td>2</td>\n",
       "      <td>1.0</td>\n",
       "      <td>46.0</td>\n",
       "    </tr>\n",
       "    <tr>\n",
       "      <th>48</th>\n",
       "      <td>97503</td>\n",
       "      <td>515924</td>\n",
       "      <td>Private room</td>\n",
       "      <td>Santo António</td>\n",
       "      <td>39</td>\n",
       "      <td>4.0</td>\n",
       "      <td>2</td>\n",
       "      <td>1.0</td>\n",
       "      <td>26.0</td>\n",
       "    </tr>\n",
       "  </tbody>\n",
       "</table>\n",
       "</div>"
      ],
      "text/plain": [
       "    room_id  host_id     room_type   neighborhood  reviews  \\\n",
       "41    90387   490050  Private room  Santo António      204   \n",
       "48    97503   515924  Private room  Santo António       39   \n",
       "\n",
       "    overall_satisfaction  accommodates  bedrooms  price  \n",
       "41                   5.0             2       1.0   46.0  \n",
       "48                   4.0             2       1.0   26.0  "
      ]
     },
     "execution_count": 110,
     "metadata": {},
     "output_type": "execute_result"
    }
   ],
   "source": [
    "df_propietarios"
   ]
  },
  {
   "cell_type": "code",
   "execution_count": 114,
   "metadata": {},
   "outputs": [],
   "source": [
    "ruta_excel='./src/roberto.xlsx'\n",
    "df_propietarios.to_excel(ruta_excel,index=False)"
   ]
  },
  {
   "cell_type": "markdown",
   "metadata": {
    "id": "uLzCBtabJRhr"
   },
   "source": [
    "\n",
    "### Caso 3\n",
    "\n",
    "Diana va a Lisboa a pasar 3 noches y quiere conocer a gente nueva. Tiene un presupuesto de 50€ para su alojamiento. Debemos buscarle las 10 propiedades más baratas, dandole preferencia a aquellas que sean habitaciones compartidas *(room_type == Shared room)*, y para aquellas viviendas compartidas debemos elegir aquellas con mejor puntuación."
   ]
  },
  {
   "cell_type": "code",
   "execution_count": 13,
   "metadata": {
    "id": "Xzg1uKFDJRhs",
    "tags": []
   },
   "outputs": [],
   "source": [
    "filtro2 = df_airbnb[df_airbnb['room_type'] == 'Shared room']\n",
    "filtro2 = filtro2.sort_values(by='overall_satisfaction', ascending=False)"
   ]
  },
  {
   "cell_type": "code",
   "execution_count": 14,
   "metadata": {
    "id": "SUL3hjq8JRht"
   },
   "outputs": [
    {
     "data": {
      "text/html": [
       "<div>\n",
       "<style scoped>\n",
       "    .dataframe tbody tr th:only-of-type {\n",
       "        vertical-align: middle;\n",
       "    }\n",
       "\n",
       "    .dataframe tbody tr th {\n",
       "        vertical-align: top;\n",
       "    }\n",
       "\n",
       "    .dataframe thead th {\n",
       "        text-align: right;\n",
       "    }\n",
       "</style>\n",
       "<table border=\"1\" class=\"dataframe\">\n",
       "  <thead>\n",
       "    <tr style=\"text-align: right;\">\n",
       "      <th></th>\n",
       "      <th>room_id</th>\n",
       "      <th>host_id</th>\n",
       "      <th>room_type</th>\n",
       "      <th>neighborhood</th>\n",
       "      <th>reviews</th>\n",
       "      <th>overall_satisfaction</th>\n",
       "      <th>accommodates</th>\n",
       "      <th>bedrooms</th>\n",
       "      <th>price</th>\n",
       "    </tr>\n",
       "  </thead>\n",
       "  <tbody>\n",
       "    <tr>\n",
       "      <th>6399</th>\n",
       "      <td>11278059</td>\n",
       "      <td>58899339</td>\n",
       "      <td>Shared room</td>\n",
       "      <td>Arroios</td>\n",
       "      <td>27</td>\n",
       "      <td>5.0</td>\n",
       "      <td>9</td>\n",
       "      <td>1.0</td>\n",
       "      <td>22.0</td>\n",
       "    </tr>\n",
       "    <tr>\n",
       "      <th>9964</th>\n",
       "      <td>16150682</td>\n",
       "      <td>58899339</td>\n",
       "      <td>Shared room</td>\n",
       "      <td>Avenidas Novas</td>\n",
       "      <td>4</td>\n",
       "      <td>5.0</td>\n",
       "      <td>9</td>\n",
       "      <td>1.0</td>\n",
       "      <td>16.0</td>\n",
       "    </tr>\n",
       "    <tr>\n",
       "      <th>7313</th>\n",
       "      <td>12826411</td>\n",
       "      <td>6981742</td>\n",
       "      <td>Shared room</td>\n",
       "      <td>Alvalade</td>\n",
       "      <td>12</td>\n",
       "      <td>5.0</td>\n",
       "      <td>1</td>\n",
       "      <td>1.0</td>\n",
       "      <td>22.0</td>\n",
       "    </tr>\n",
       "    <tr>\n",
       "      <th>3727</th>\n",
       "      <td>5803348</td>\n",
       "      <td>29676067</td>\n",
       "      <td>Shared room</td>\n",
       "      <td>Misericórdia</td>\n",
       "      <td>19</td>\n",
       "      <td>5.0</td>\n",
       "      <td>9</td>\n",
       "      <td>1.0</td>\n",
       "      <td>20.0</td>\n",
       "    </tr>\n",
       "    <tr>\n",
       "      <th>3663</th>\n",
       "      <td>5725814</td>\n",
       "      <td>29676067</td>\n",
       "      <td>Shared room</td>\n",
       "      <td>Misericórdia</td>\n",
       "      <td>23</td>\n",
       "      <td>5.0</td>\n",
       "      <td>6</td>\n",
       "      <td>1.0</td>\n",
       "      <td>21.0</td>\n",
       "    </tr>\n",
       "    <tr>\n",
       "      <th>7932</th>\n",
       "      <td>13570032</td>\n",
       "      <td>78249982</td>\n",
       "      <td>Shared room</td>\n",
       "      <td>Misericórdia</td>\n",
       "      <td>8</td>\n",
       "      <td>5.0</td>\n",
       "      <td>10</td>\n",
       "      <td>1.0</td>\n",
       "      <td>48.0</td>\n",
       "    </tr>\n",
       "    <tr>\n",
       "      <th>7312</th>\n",
       "      <td>12826213</td>\n",
       "      <td>6981742</td>\n",
       "      <td>Shared room</td>\n",
       "      <td>Alvalade</td>\n",
       "      <td>19</td>\n",
       "      <td>5.0</td>\n",
       "      <td>1</td>\n",
       "      <td>1.0</td>\n",
       "      <td>22.0</td>\n",
       "    </tr>\n",
       "    <tr>\n",
       "      <th>4911</th>\n",
       "      <td>7722107</td>\n",
       "      <td>40574313</td>\n",
       "      <td>Shared room</td>\n",
       "      <td>Avenidas Novas</td>\n",
       "      <td>22</td>\n",
       "      <td>5.0</td>\n",
       "      <td>4</td>\n",
       "      <td>1.0</td>\n",
       "      <td>36.0</td>\n",
       "    </tr>\n",
       "    <tr>\n",
       "      <th>3139</th>\n",
       "      <td>4686135</td>\n",
       "      <td>24225052</td>\n",
       "      <td>Shared room</td>\n",
       "      <td>Areeiro</td>\n",
       "      <td>9</td>\n",
       "      <td>5.0</td>\n",
       "      <td>4</td>\n",
       "      <td>1.0</td>\n",
       "      <td>56.0</td>\n",
       "    </tr>\n",
       "    <tr>\n",
       "      <th>7066</th>\n",
       "      <td>12305540</td>\n",
       "      <td>66077974</td>\n",
       "      <td>Shared room</td>\n",
       "      <td>Arroios</td>\n",
       "      <td>40</td>\n",
       "      <td>5.0</td>\n",
       "      <td>1</td>\n",
       "      <td>1.0</td>\n",
       "      <td>13.0</td>\n",
       "    </tr>\n",
       "  </tbody>\n",
       "</table>\n",
       "</div>"
      ],
      "text/plain": [
       "       room_id   host_id    room_type    neighborhood  reviews  \\\n",
       "6399  11278059  58899339  Shared room         Arroios       27   \n",
       "9964  16150682  58899339  Shared room  Avenidas Novas        4   \n",
       "7313  12826411   6981742  Shared room        Alvalade       12   \n",
       "3727   5803348  29676067  Shared room    Misericórdia       19   \n",
       "3663   5725814  29676067  Shared room    Misericórdia       23   \n",
       "7932  13570032  78249982  Shared room    Misericórdia        8   \n",
       "7312  12826213   6981742  Shared room        Alvalade       19   \n",
       "4911   7722107  40574313  Shared room  Avenidas Novas       22   \n",
       "3139   4686135  24225052  Shared room         Areeiro        9   \n",
       "7066  12305540  66077974  Shared room         Arroios       40   \n",
       "\n",
       "      overall_satisfaction  accommodates  bedrooms  price  \n",
       "6399                   5.0             9       1.0   22.0  \n",
       "9964                   5.0             9       1.0   16.0  \n",
       "7313                   5.0             1       1.0   22.0  \n",
       "3727                   5.0             9       1.0   20.0  \n",
       "3663                   5.0             6       1.0   21.0  \n",
       "7932                   5.0            10       1.0   48.0  \n",
       "7312                   5.0             1       1.0   22.0  \n",
       "4911                   5.0             4       1.0   36.0  \n",
       "3139                   5.0             4       1.0   56.0  \n",
       "7066                   5.0             1       1.0   13.0  "
      ]
     },
     "execution_count": 14,
     "metadata": {},
     "output_type": "execute_result"
    }
   ],
   "source": [
    "filtro2.head(10)"
   ]
  },
  {
   "cell_type": "markdown",
   "metadata": {
    "id": "ArL1NJCKJRht"
   },
   "source": [
    "## Usando MatPlot"
   ]
  },
  {
   "cell_type": "code",
   "execution_count": 7,
   "metadata": {
    "id": "OXung2vcJRht"
   },
   "outputs": [],
   "source": [
    "import matplotlib.pyplot as plt"
   ]
  },
  {
   "cell_type": "code",
   "execution_count": 8,
   "metadata": {
    "id": "h0mnikWcJRhu"
   },
   "outputs": [],
   "source": [
    "%matplotlib inline"
   ]
  },
  {
   "cell_type": "markdown",
   "metadata": {
    "id": "hXxRZJ_DJRhu"
   },
   "source": [
    "### Caso 1.\n",
    "\n",
    "Realizar un gráfico circular, de la cantidad de tipo de habitaciones `room_type`  "
   ]
  },
  {
   "cell_type": "code",
   "execution_count": 10,
   "metadata": {},
   "outputs": [
    {
     "data": {
      "image/png": "[encoded data removed]",
      "text/plain": [
       "<Figure size 640x480 with 1 Axes>"
      ]
     },
     "metadata": {},
     "output_type": "display_data"
    }
   ],
   "source": [
    "habitaciones = df_airbnb['room_type'].value_counts()\n",
    "plt.pie(habitaciones, labels=habitaciones.index, autopct=lambda pct: f'{int(pct/100*len(df_airbnb))} habitaciones')\n",
    "plt.title('Distribución de habitaciones')\n",
    "plt.show()\n"
   ]
  },
  {
   "cell_type": "code",
   "execution_count": null,
   "metadata": {},
   "outputs": [],
   "source": []
  }
 ],
 "metadata": {
  "colab": {
   "provenance": []
  },
  "kernelspec": {
   "display_name": "Python 3 (ipykernel)",
   "language": "python",
   "name": "python3"
  },
  "language_info": {
   "codemirror_mode": {
    "name": "ipython",
    "version": 3
   },
   "file_extension": ".py",
   "mimetype": "text/x-python",
   "name": "python",
   "nbconvert_exporter": "python",
   "pygments_lexer": "ipython3",
   "version": "3.10.9"
  }
 },
 "nbformat": 4,
 "nbformat_minor": 1
}
